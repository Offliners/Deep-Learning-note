{
  "nbformat": 4,
  "nbformat_minor": 0,
  "metadata": {
    "colab": {
      "name": "Untitled0.ipynb",
      "provenance": [],
      "authorship_tag": "ABX9TyPCfqMUuWb+o3lS0DiowdWb",
      "include_colab_link": true
    },
    "kernelspec": {
      "name": "python3",
      "display_name": "Python 3"
    }
  },
  "cells": [
    {
      "cell_type": "markdown",
      "metadata": {
        "id": "view-in-github",
        "colab_type": "text"
      },
      "source": [
        "<a href=\"https://colab.research.google.com/github/Offliners/Deep-Learning-note/blob/main/3.5-classifying-movie-reviews.ipynb\" target=\"_parent\"><img src=\"https://colab.research.google.com/assets/colab-badge.svg\" alt=\"Open In Colab\"/></a>"
      ]
    },
    {
      "cell_type": "markdown",
      "metadata": {
        "id": "PcqCcjSbwi3b"
      },
      "source": [
        "**載入IMDB資料集**"
      ]
    },
    {
      "cell_type": "code",
      "metadata": {
        "colab": {
          "base_uri": "https://localhost:8080/"
        },
        "id": "NPBUvRKLwhbx",
        "outputId": "c3e2ca73-0c25-460c-f24f-f640fcd05c72"
      },
      "source": [
        "from keras.datasets import imdb  # 從keras.datasets套件中匯入imdb\r\n",
        "\r\n",
        "(train_data, train_labels), (test_data, test_labels) = imdb.load_data(num_words=10000)"
      ],
      "execution_count": 1,
      "outputs": [
        {
          "output_type": "stream",
          "text": [
            "Downloading data from https://storage.googleapis.com/tensorflow/tf-keras-datasets/imdb.npz\n",
            "17465344/17464789 [==============================] - 0s 0us/step\n"
          ],
          "name": "stdout"
        },
        {
          "output_type": "stream",
          "text": [
            "<string>:6: VisibleDeprecationWarning: Creating an ndarray from ragged nested sequences (which is a list-or-tuple of lists-or-tuples-or ndarrays with different lengths or shapes) is deprecated. If you meant to do this, you must specify 'dtype=object' when creating the ndarray\n",
            "/usr/local/lib/python3.6/dist-packages/tensorflow/python/keras/datasets/imdb.py:159: VisibleDeprecationWarning: Creating an ndarray from ragged nested sequences (which is a list-or-tuple of lists-or-tuples-or ndarrays with different lengths or shapes) is deprecated. If you meant to do this, you must specify 'dtype=object' when creating the ndarray\n",
            "  x_train, y_train = np.array(xs[:idx]), np.array(labels[:idx])\n",
            "/usr/local/lib/python3.6/dist-packages/tensorflow/python/keras/datasets/imdb.py:160: VisibleDeprecationWarning: Creating an ndarray from ragged nested sequences (which is a list-or-tuple of lists-or-tuples-or ndarrays with different lengths or shapes) is deprecated. If you meant to do this, you must specify 'dtype=object' when creating the ndarray\n",
            "  x_test, y_test = np.array(xs[idx:]), np.array(labels[idx:])\n"
          ],
          "name": "stderr"
        }
      ]
    },
    {
      "cell_type": "markdown",
      "metadata": {
        "id": "x9i0B1POxIEQ"
      },
      "source": [
        "**從2層的整數list編碼成二元矩陣**"
      ]
    },
    {
      "cell_type": "code",
      "metadata": {
        "id": "OTMsqcg4xVWO"
      },
      "source": [
        "import numpy as np\r\n",
        "\r\n",
        "def vectorize_sequences(sequences, dimension=10000):\r\n",
        "  results = np.zeros((len(sequences), dimension))  # 建立全為0的矩陣，其形狀為(len(sequences), dimension)，其中len(sequences)為樣本數\r\n",
        "\r\n",
        "  for i, sequence in enumerate(sequences):  # 用enumerate()為每個子串列編號，編號會存到i，子串列存到sequence\r\n",
        "    results[i, sequence] = 1.  # 將results[i]中的多個元素(以sequence串列的每個元素值為索引)設為1.0\r\n",
        "  \r\n",
        "  return results\r\n",
        "\r\n",
        "x_train = vectorize_sequences(train_data)  # 將訓練資料向量化\r\n",
        "x_test = vectorize_sequences(test_data)  # 將測試資料向量化\r\n",
        "y_train = np.asarray(train_labels).astype('float32')  # 將訓練標籤向量化\r\n",
        "y_test = np.asarray(test_labels).astype('float32')  # 將測試標籤向量化"
      ],
      "execution_count": 10,
      "outputs": []
    },
    {
      "cell_type": "markdown",
      "metadata": {
        "id": "kT2O7SbWy6Qn"
      },
      "source": [
        "**模型定義**"
      ]
    },
    {
      "cell_type": "code",
      "metadata": {
        "id": "kSuXT6xpy77b"
      },
      "source": [
        "from keras import models\r\n",
        "from keras import layers\r\n",
        "\r\n",
        "model = models.Sequential()  # 使用models模組的Sequential類別，建立一個物件讓新增的神經網路層可以進行堆疊\r\n",
        "model.add(layers.Dense(16, activation='relu', input_shape=(10000,)))  # 輸入層也是隱藏層\r\n",
        "model.add(layers.Dense(16, activation='relu'))  # 隱藏層\r\n",
        "model.add(layers.Dense(1, activation='sigmoid'))  # 輸出層"
      ],
      "execution_count": 8,
      "outputs": []
    },
    {
      "cell_type": "markdown",
      "metadata": {
        "id": "RfwDcVgl0OIe"
      },
      "source": [
        "**設定驗證資料集**"
      ]
    },
    {
      "cell_type": "code",
      "metadata": {
        "id": "KLVIaRB40WjR"
      },
      "source": [
        "x_val = x_train[:10000]  # 取輸入資料的前10000作為驗證資料集\r\n",
        "partial_x_train = x_train[10000:]  # 輸入資料的第10000個開始才是訓練資料\r\n",
        "\r\n",
        "y_val = y_train[:10000]  # 對應的，要取標籤的前10000作為驗證標籤\r\n",
        "partial_y_train = y_train[10000:]  # 從標籤的第10000個開始才是訓練標籤"
      ],
      "execution_count": 11,
      "outputs": []
    },
    {
      "cell_type": "markdown",
      "metadata": {
        "id": "psyWy0wl10gD"
      },
      "source": [
        "**訓練模型**"
      ]
    },
    {
      "cell_type": "code",
      "metadata": {
        "colab": {
          "base_uri": "https://localhost:8080/"
        },
        "id": "NCydutFZ12d_",
        "outputId": "8bc93a25-3f14-4bbb-9c24-c691cfc9ab07"
      },
      "source": [
        "model.compile(optimizer='rmsprop',\r\n",
        "              loss='binary_crossentropy',\r\n",
        "              metrics=['acc'])  # 建立訓練模型\r\n",
        "\r\n",
        "history = model.fit(partial_x_train,\r\n",
        "                    partial_y_train,\r\n",
        "                    epochs=20,\r\n",
        "                    batch_size=512,\r\n",
        "                    validation_data=(x_val, y_val))  # 同時傳入驗證集的資料與標籤"
      ],
      "execution_count": 13,
      "outputs": [
        {
          "output_type": "stream",
          "text": [
            "Epoch 1/20\n",
            "30/30 [==============================] - 2s 51ms/step - loss: 0.6101 - acc: 0.6950 - val_loss: 0.3996 - val_acc: 0.8696\n",
            "Epoch 2/20\n",
            "30/30 [==============================] - 1s 38ms/step - loss: 0.3407 - acc: 0.8964 - val_loss: 0.3151 - val_acc: 0.8831\n",
            "Epoch 3/20\n",
            "30/30 [==============================] - 1s 38ms/step - loss: 0.2387 - acc: 0.9282 - val_loss: 0.2837 - val_acc: 0.8877\n",
            "Epoch 4/20\n",
            "30/30 [==============================] - 1s 38ms/step - loss: 0.1871 - acc: 0.9458 - val_loss: 0.2801 - val_acc: 0.8881\n",
            "Epoch 5/20\n",
            "30/30 [==============================] - 1s 38ms/step - loss: 0.1557 - acc: 0.9516 - val_loss: 0.2994 - val_acc: 0.8829\n",
            "Epoch 6/20\n",
            "30/30 [==============================] - 1s 38ms/step - loss: 0.1197 - acc: 0.9659 - val_loss: 0.2878 - val_acc: 0.8855\n",
            "Epoch 7/20\n",
            "30/30 [==============================] - 1s 38ms/step - loss: 0.0995 - acc: 0.9739 - val_loss: 0.3292 - val_acc: 0.8789\n",
            "Epoch 8/20\n",
            "30/30 [==============================] - 1s 38ms/step - loss: 0.0877 - acc: 0.9752 - val_loss: 0.3305 - val_acc: 0.8808\n",
            "Epoch 9/20\n",
            "30/30 [==============================] - 1s 38ms/step - loss: 0.0714 - acc: 0.9821 - val_loss: 0.3394 - val_acc: 0.8800\n",
            "Epoch 10/20\n",
            "30/30 [==============================] - 1s 37ms/step - loss: 0.0582 - acc: 0.9867 - val_loss: 0.3597 - val_acc: 0.8794\n",
            "Epoch 11/20\n",
            "30/30 [==============================] - 1s 39ms/step - loss: 0.0495 - acc: 0.9886 - val_loss: 0.3877 - val_acc: 0.8798\n",
            "Epoch 12/20\n",
            "30/30 [==============================] - 1s 37ms/step - loss: 0.0407 - acc: 0.9919 - val_loss: 0.4368 - val_acc: 0.8665\n",
            "Epoch 13/20\n",
            "30/30 [==============================] - 1s 38ms/step - loss: 0.0341 - acc: 0.9934 - val_loss: 0.4447 - val_acc: 0.8756\n",
            "Epoch 14/20\n",
            "30/30 [==============================] - 1s 38ms/step - loss: 0.0258 - acc: 0.9955 - val_loss: 0.4826 - val_acc: 0.8743\n",
            "Epoch 15/20\n",
            "30/30 [==============================] - 1s 38ms/step - loss: 0.0217 - acc: 0.9966 - val_loss: 0.5067 - val_acc: 0.8714\n",
            "Epoch 16/20\n",
            "30/30 [==============================] - 1s 37ms/step - loss: 0.0178 - acc: 0.9980 - val_loss: 0.5414 - val_acc: 0.8701\n",
            "Epoch 17/20\n",
            "30/30 [==============================] - 1s 38ms/step - loss: 0.0138 - acc: 0.9985 - val_loss: 0.5798 - val_acc: 0.8671\n",
            "Epoch 18/20\n",
            "30/30 [==============================] - 1s 38ms/step - loss: 0.0101 - acc: 0.9990 - val_loss: 0.6115 - val_acc: 0.8688\n",
            "Epoch 19/20\n",
            "30/30 [==============================] - 1s 38ms/step - loss: 0.0073 - acc: 0.9997 - val_loss: 0.6462 - val_acc: 0.8685\n",
            "Epoch 20/20\n",
            "30/30 [==============================] - 1s 37ms/step - loss: 0.0053 - acc: 0.9999 - val_loss: 0.7796 - val_acc: 0.8563\n"
          ],
          "name": "stdout"
        }
      ]
    },
    {
      "cell_type": "markdown",
      "metadata": {
        "id": "F1uxUqSE2lOg"
      },
      "source": [
        "**繪製訓練與驗證的損失分數**"
      ]
    },
    {
      "cell_type": "code",
      "metadata": {
        "colab": {
          "base_uri": "https://localhost:8080/",
          "height": 295
        },
        "id": "-EzDqhhb2pyj",
        "outputId": "cf2a58fd-baa4-4c11-b5dc-0c6d2a4a98db"
      },
      "source": [
        "import matplotlib.pyplot as plt  # 匯入matplotlib.pyplot模組並命名為plt\r\n",
        "\r\n",
        "history_dict = history.history\r\n",
        "loss_values = history_dict['loss']  # 取得每次訓練的loss訓練損失分數並存成loss_values變數\r\n",
        "val_loss_values = history_dict['val_loss']  # 取得每次驗證的val_loss驗證損失分數並存成val_loss_values變數\r\n",
        "\r\n",
        "epochs = range(1, len(loss_values) + 1)  # len(loss_values)項目個數為20，範圍從1到21(不含21)的週期\r\n",
        "\r\n",
        "plt.plot(epochs, loss_values, 'bo', label='Training loss')\r\n",
        "plt.plot(epochs, val_loss_values, 'r', label='Validation loss')\r\n",
        "plt.title('Training and validation loss')\r\n",
        "plt.xlabel('Epochs')\r\n",
        "plt.ylabel('Loss')\r\n",
        "plt.legend()\r\n",
        "plt.grid()\r\n",
        "plt.show()"
      ],
      "execution_count": 14,
      "outputs": [
        {
          "output_type": "display_data",
          "data": {
            "image/png": "[encoded data removed]",
            "text/plain": [
              "<Figure size 432x288 with 1 Axes>"
            ]
          },
          "metadata": {
            "tags": [],
            "needs_background": "light"
          }
        }
      ]
    },
    {
      "cell_type": "markdown",
      "metadata": {
        "id": "ZCGQ7HEC4Ha5"
      },
      "source": [
        "**繪製訓練和驗證的準確度**"
      ]
    },
    {
      "cell_type": "code",
      "metadata": {
        "colab": {
          "base_uri": "https://localhost:8080/",
          "height": 295
        },
        "id": "nny-ZLcw4Mnr",
        "outputId": "75d04520-c278-4fcc-a8e9-79b5fb95f46a"
      },
      "source": [
        "plt.clf()  # 清除圖表\r\n",
        "acc = history_dict['acc']\r\n",
        "val_acc = history_dict['val_acc']\r\n",
        "\r\n",
        "plt.plot(epochs, acc, 'bo', label='Training acc')\r\n",
        "plt.plot(epochs, val_acc, 'r', label='Validation acc')\r\n",
        "plt.title('Training and validation accuracy')\r\n",
        "plt.xlabel('Epochs')\r\n",
        "plt.ylabel('Accuracy')\r\n",
        "plt.legend()\r\n",
        "plt.grid()\r\n",
        "plt.show()"
      ],
      "execution_count": 15,
      "outputs": [
        {
          "output_type": "display_data",
          "data": {
            "image/png": "[encoded data removed]",
            "text/plain": [
              "<Figure size 432x288 with 1 Axes>"
            ]
          },
          "metadata": {
            "tags": [],
            "needs_background": "light"
          }
        }
      ]
    },
    {
      "cell_type": "markdown",
      "metadata": {
        "id": "BlzsabeV4nRp"
      },
      "source": [
        "**重新開始訓練模型**"
      ]
    },
    {
      "cell_type": "code",
      "metadata": {
        "colab": {
          "base_uri": "https://localhost:8080/"
        },
        "id": "FOg9Cxrn4p0_",
        "outputId": "c3f4619e-58ab-475e-ee3c-8e736761a860"
      },
      "source": [
        "model = models.Sequential()\r\n",
        "model.add(layers.Dense(16, activation='relu', input_shape=(10000,)))\r\n",
        "model.add(layers.Dense(16, activation='relu'))\r\n",
        "model.add(layers.Dense(1, activation='sigmoid'))\r\n",
        "\r\n",
        "model.compile(optimizer='rmsprop',\r\n",
        "              loss='binary_crossentropy',\r\n",
        "              metrics=['accuracy'])\r\n",
        "\r\n",
        "model.fit(x_train, y_train, epochs=4, batch_size=512)  # 訓練4個週期的神經網路\r\n",
        "results = model.evaluate(x_test, y_test)  # 輸入測試資料與測試標進行評估\r\n",
        "\r\n",
        "print(results)"
      ],
      "execution_count": 19,
      "outputs": [
        {
          "output_type": "stream",
          "text": [
            "Epoch 1/4\n",
            "49/49 [==============================] - 2s 29ms/step - loss: 0.5559 - accuracy: 0.7355\n",
            "Epoch 2/4\n",
            "49/49 [==============================] - 1s 28ms/step - loss: 0.2838 - accuracy: 0.9057\n",
            "Epoch 3/4\n",
            "49/49 [==============================] - 1s 27ms/step - loss: 0.2112 - accuracy: 0.9245\n",
            "Epoch 4/4\n",
            "49/49 [==============================] - 1s 28ms/step - loss: 0.1649 - accuracy: 0.9447\n",
            "782/782 [==============================] - 1s 2ms/step - loss: 0.2911 - accuracy: 0.8842\n",
            "[0.2910824120044708, 0.8842399716377258]\n"
          ],
          "name": "stdout"
        }
      ]
    }
  ]
}