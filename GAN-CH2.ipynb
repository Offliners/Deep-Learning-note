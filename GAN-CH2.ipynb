{
  "nbformat": 4,
  "nbformat_minor": 0,
  "metadata": {
    "colab": {
      "name": "Untitled4.ipynb",
      "provenance": [],
      "collapsed_sections": [],
      "authorship_tag": "ABX9TyMPD3EoPa8N1oM1Mlciq9xe",
      "include_colab_link": true
    },
    "kernelspec": {
      "name": "python3",
      "display_name": "Python 3"
    }
  },
  "cells": [
    {
      "cell_type": "markdown",
      "metadata": {
        "id": "view-in-github",
        "colab_type": "text"
      },
      "source": [
        "<a href=\"https://colab.research.google.com/github/Offliners/Deep-Learning-note/blob/main/GAN-CH2.ipynb\" target=\"_parent\"><img src=\"https://colab.research.google.com/assets/colab-badge.svg\" alt=\"Open In Colab\"/></a>"
      ]
    },
    {
      "cell_type": "markdown",
      "metadata": {
        "id": "O3H5IzmPYNwX"
      },
      "source": [
        "**匯入套件**"
      ]
    },
    {
      "cell_type": "code",
      "metadata": {
        "id": "wboQNLKXQ8HE"
      },
      "source": [
        "import tensorflow as tf\r\n",
        "from keras.layers import Input, Dense, Lambda\r\n",
        "from keras.models import Model\r\n",
        "from keras import backend as K\r\n",
        "from keras import objectives\r\n",
        "from keras.datasets import mnist\r\n",
        "import numpy as np"
      ],
      "execution_count": 2,
      "outputs": []
    },
    {
      "cell_type": "markdown",
      "metadata": {
        "id": "ggCAsBSLZLRj"
      },
      "source": [
        "**查看Keras、Tnesorflow和Python版本**\r\n",
        "\r\n",
        "書中使用\r\n",
        "```\r\n",
        "Keras : 2.3.1\r\n",
        "Tensorflow : 2.2.0\r\n",
        "Python : 3.6.9\r\n",
        "```"
      ]
    },
    {
      "cell_type": "code",
      "metadata": {
        "colab": {
          "base_uri": "https://localhost:8080/"
        },
        "id": "X0iX7hWHZO31",
        "outputId": "63fda85f-5b46-4e49-d8dd-38789730ddc4"
      },
      "source": [
        "print(\"Keras : \", keras.__version__)\r\n",
        "print(\"Tnesorflow : \", tf.__version__)\r\n",
        "\r\n",
        "import sys\r\n",
        "print(\"Python : \", sys.version)\r\n",
        "\r\n",
        "tf.compat.v1.disable_eager_execution() # 如果出現錯誤，可執行此行試看看"
      ],
      "execution_count": 8,
      "outputs": [
        {
          "output_type": "stream",
          "text": [
            "Keras :  2.4.3\n",
            "Tnesorflow :  2.4.0\n",
            "Python :  3.6.9 (default, Oct  8 2020, 12:12:24) \n",
            "[GCC 8.4.0]\n"
          ],
          "name": "stdout"
        }
      ]
    },
    {
      "cell_type": "markdown",
      "metadata": {
        "id": "n1KVy2soaq36"
      },
      "source": [
        "**超參數設定**"
      ]
    },
    {
      "cell_type": "code",
      "metadata": {
        "id": "Lf1yO4eYakKZ"
      },
      "source": [
        ""
      ],
      "execution_count": null,
      "outputs": []
    }
  ]
}