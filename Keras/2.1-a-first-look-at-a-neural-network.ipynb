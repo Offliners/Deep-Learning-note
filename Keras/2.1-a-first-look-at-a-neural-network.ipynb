{
  "nbformat": 4,
  "nbformat_minor": 0,
  "metadata": {
    "colab": {
      "name": "Untitled6.ipynb",
      "provenance": [],
      "authorship_tag": "ABX9TyOTNtnjxKXV6sbnc+gDOtke",
      "include_colab_link": true
    },
    "kernelspec": {
      "name": "python3",
      "display_name": "Python 3"
    }
  },
  "cells": [
    {
      "cell_type": "markdown",
      "metadata": {
        "id": "view-in-github",
        "colab_type": "text"
      },
      "source": [
        "<a href=\"https://colab.research.google.com/github/Offliners/Deep-Learning-note/blob/main/2.1-a-first-look-at-a-neural-network.ipynb\" target=\"_parent\"><img src=\"https://colab.research.google.com/assets/colab-badge.svg\" alt=\"Open In Colab\"/></a>"
      ]
    },
    {
      "cell_type": "markdown",
      "metadata": {
        "id": "cVwhqD5vAukl"
      },
      "source": [
        "**在Keras中載入MNIST資料集**"
      ]
    },
    {
      "cell_type": "code",
      "metadata": {
        "colab": {
          "base_uri": "https://localhost:8080/"
        },
        "id": "SuaUHsEH_d12",
        "outputId": "5d7584a2-b88f-4c44-fb10-c4e2b0aef0f4"
      },
      "source": [
        "from keras.datasets import mnist  # 從keras的datasets匯入mnist資料集\r\n",
        "\r\n",
        "(train_images, train_labels), (test_images, test_labels) = mnist.load_data()"
      ],
      "execution_count": 2,
      "outputs": [
        {
          "output_type": "stream",
          "text": [
            "Downloading data from https://storage.googleapis.com/tensorflow/tf-keras-datasets/mnist.npz\n",
            "11493376/11490434 [==============================] - 0s 0us/step\n"
          ],
          "name": "stdout"
        }
      ]
    },
    {
      "cell_type": "markdown",
      "metadata": {
        "id": "0O_4eANmBTR2"
      },
      "source": [
        "**檢查訓練資料與測試資料**"
      ]
    },
    {
      "cell_type": "code",
      "metadata": {
        "colab": {
          "base_uri": "https://localhost:8080/"
        },
        "id": "0jfOqberBYo5",
        "outputId": "f2b927c8-11fd-4e17-c6fe-9ea7de4968b6"
      },
      "source": [
        "print(train_images.shape)\r\n",
        "print(len(train_labels))\r\n",
        "print(test_images.shape)\r\n",
        "print(len(test_labels))"
      ],
      "execution_count": 5,
      "outputs": [
        {
          "output_type": "stream",
          "text": [
            "(60000, 28, 28)\n",
            "60000\n",
            "(10000, 28, 28)\n",
            "10000\n"
          ],
          "name": "stdout"
        }
      ]
    },
    {
      "cell_type": "markdown",
      "metadata": {
        "id": "8RK8yB_LBpXH"
      },
      "source": [
        "**神經網路架構**"
      ]
    },
    {
      "cell_type": "code",
      "metadata": {
        "id": "dwU3otx0Brmj"
      },
      "source": [
        "from keras import models\r\n",
        "from keras import layers\r\n",
        "\r\n",
        "network = models.Sequential()\r\n",
        "network.add(layers.Dense(512, activation='relu', input_shape=(28 * 28,)))\r\n",
        "network.add(layers.Dense(10, activation='softmax'))"
      ],
      "execution_count": 8,
      "outputs": []
    },
    {
      "cell_type": "markdown",
      "metadata": {
        "id": "zLowNWSPCXF0"
      },
      "source": [
        "**編譯步驟**"
      ]
    },
    {
      "cell_type": "code",
      "metadata": {
        "id": "Ku3Lu7nZCb4x"
      },
      "source": [
        "network.compile(optimizer='rmsprop',  # 指定優化器\r\n",
        "                loss='categorical_crossentropy',  # 指定損失函數\r\n",
        "                metrics=['accuracy'])  # 指定評量標準"
      ],
      "execution_count": 15,
      "outputs": []
    },
    {
      "cell_type": "markdown",
      "metadata": {
        "id": "bU1OOKspC0LY"
      },
      "source": [
        "**準備圖片資料**"
      ]
    },
    {
      "cell_type": "code",
      "metadata": {
        "id": "A_MS37KEC2yH"
      },
      "source": [
        "train_images = train_images.reshape((60000, 28 * 28))\r\n",
        "train_images = train_images.astype('float32') / 255\r\n",
        "test_images = test_images.reshape((10000, 28 * 28))\r\n",
        "test_images = test_images.astype('float32') / 255"
      ],
      "execution_count": 12,
      "outputs": []
    },
    {
      "cell_type": "markdown",
      "metadata": {
        "id": "LimN6uq8DKjW"
      },
      "source": [
        "**準備標籤**"
      ]
    },
    {
      "cell_type": "code",
      "metadata": {
        "id": "AJDqFYlRDMzr"
      },
      "source": [
        "from keras.utils import to_categorical\r\n",
        "\r\n",
        "train_labels = to_categorical(train_labels)  # 對標籤進行分類編碼\r\n",
        "test_labels = to_categorical(test_labels)  # 對標籤進行分類編碼"
      ],
      "execution_count": 13,
      "outputs": []
    },
    {
      "cell_type": "markdown",
      "metadata": {
        "id": "ZrUyLOe8Dep6"
      },
      "source": [
        "**對神經網路進行訓練**"
      ]
    },
    {
      "cell_type": "code",
      "metadata": {
        "colab": {
          "base_uri": "https://localhost:8080/"
        },
        "id": "2hutPHRJDlbm",
        "outputId": "4115d683-2da1-4e2b-cc63-200c6eb13456"
      },
      "source": [
        "network.fit(train_images, train_labels, epochs=5, batch_size=128)"
      ],
      "execution_count": 16,
      "outputs": [
        {
          "output_type": "stream",
          "text": [
            "Epoch 1/5\n",
            "469/469 [==============================] - 4s 7ms/step - loss: 0.4196 - accuracy: 0.8787\n",
            "Epoch 2/5\n",
            "469/469 [==============================] - 4s 7ms/step - loss: 0.1101 - accuracy: 0.9669\n",
            "Epoch 3/5\n",
            "469/469 [==============================] - 4s 8ms/step - loss: 0.0660 - accuracy: 0.9801\n",
            "Epoch 4/5\n",
            "469/469 [==============================] - 3s 7ms/step - loss: 0.0480 - accuracy: 0.9847\n",
            "Epoch 5/5\n",
            "469/469 [==============================] - 3s 7ms/step - loss: 0.0353 - accuracy: 0.9888\n"
          ],
          "name": "stdout"
        },
        {
          "output_type": "execute_result",
          "data": {
            "text/plain": [
              "<tensorflow.python.keras.callbacks.History at 0x7f329802d748>"
            ]
          },
          "metadata": {
            "tags": []
          },
          "execution_count": 16
        }
      ]
    },
    {
      "cell_type": "markdown",
      "metadata": {
        "id": "4mPo6fw8EBTQ"
      },
      "source": [
        "**檢查模型在測試資料集上的表現**"
      ]
    },
    {
      "cell_type": "code",
      "metadata": {
        "colab": {
          "base_uri": "https://localhost:8080/"
        },
        "id": "hUK-9s81EGij",
        "outputId": "b5bc1c9a-c149-4786-ecb0-5eb7cc2bc53b"
      },
      "source": [
        "test_loss, test_acc = network.evaluate(test_images, test_labels)\r\n",
        "\r\n",
        "print('test accuracy : ', test_acc)"
      ],
      "execution_count": 17,
      "outputs": [
        {
          "output_type": "stream",
          "text": [
            "313/313 [==============================] - 1s 2ms/step - loss: 0.0688 - accuracy: 0.9800\n",
            "test accuracy :  0.9800000190734863\n"
          ],
          "name": "stdout"
        }
      ]
    }
  ]
}
