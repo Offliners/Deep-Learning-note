{
  "nbformat": 4,
  "nbformat_minor": 0,
  "metadata": {
    "colab": {
      "name": "Untitled1.ipynb",
      "provenance": [],
      "authorship_tag": "ABX9TyOecgi9wMT0+DFtT4NgplQS",
      "include_colab_link": true
    },
    "kernelspec": {
      "name": "python3",
      "display_name": "Python 3"
    }
  },
  "cells": [
    {
      "cell_type": "markdown",
      "metadata": {
        "id": "view-in-github",
        "colab_type": "text"
      },
      "source": [
        "<a href=\"https://colab.research.google.com/github/Offliners/Deep-Learning-note/blob/main/3.6-classifying-newswires.ipynb\" target=\"_parent\"><img src=\"https://colab.research.google.com/assets/colab-badge.svg\" alt=\"Open In Colab\"/></a>"
      ]
    },
    {
      "cell_type": "markdown",
      "metadata": {
        "id": "fPDpZm3vm35P"
      },
      "source": [
        "**載入路透社資料集**"
      ]
    },
    {
      "cell_type": "code",
      "metadata": {
        "colab": {
          "base_uri": "https://localhost:8080/"
        },
        "id": "jqPvlzTOm0il",
        "outputId": "7580c643-3fab-4e2c-dfd2-a4ae49d60189"
      },
      "source": [
        "from keras.datasets import reuters  # 從keras.datasets套件中匯入reuters資料集\r\n",
        "\r\n",
        "(train_data, train_labels), (test_data, test_labels) = reuters.load_data(num_words=10000)  # 從reuters資料集中讀取訓練資料、訓練標籤、測試資料、測試標籤"
      ],
      "execution_count": 75,
      "outputs": [
        {
          "output_type": "stream",
          "text": [
            "/usr/local/lib/python3.6/dist-packages/tensorflow/python/keras/datasets/reuters.py:148: VisibleDeprecationWarning: Creating an ndarray from ragged nested sequences (which is a list-or-tuple of lists-or-tuples-or ndarrays with different lengths or shapes) is deprecated. If you meant to do this, you must specify 'dtype=object' when creating the ndarray\n",
            "  x_train, y_train = np.array(xs[:idx]), np.array(labels[:idx])\n",
            "/usr/local/lib/python3.6/dist-packages/tensorflow/python/keras/datasets/reuters.py:149: VisibleDeprecationWarning: Creating an ndarray from ragged nested sequences (which is a list-or-tuple of lists-or-tuples-or ndarrays with different lengths or shapes) is deprecated. If you meant to do this, you must specify 'dtype=object' when creating the ndarray\n",
            "  x_test, y_test = np.array(xs[idx:]), np.array(labels[idx:])\n"
          ],
          "name": "stderr"
        }
      ]
    },
    {
      "cell_type": "markdown",
      "metadata": {
        "id": "sfXy_AN-orbh"
      },
      "source": [
        "**回到文字解碼新聞專欄**"
      ]
    },
    {
      "cell_type": "code",
      "metadata": {
        "id": "yE2zknlTov7V"
      },
      "source": [
        "word_index = reuters.get_word_index()\r\n",
        "reverse_word_index = dict([(value, key) for (value, key) in word_index.items()])\r\n",
        "\r\n",
        "# 這些索引值有位移3個位置，因為0，1與2分別是保留索引值，代表「填補」、「開始位置」與「未知」\r\n",
        "decoded_newwire = ' '.join([reverse_word_index.get(i - 3, '?') for i in train_data[0]])"
      ],
      "execution_count": 76,
      "outputs": []
    },
    {
      "cell_type": "markdown",
      "metadata": {
        "id": "HYu3l-wVrfxQ"
      },
      "source": [
        "**將資料加以編碼**"
      ]
    },
    {
      "cell_type": "code",
      "metadata": {
        "id": "gMNI4ok6rjXy"
      },
      "source": [
        "import numpy as np\r\n",
        "\r\n",
        "def vectorize_sequences(sequences, dimension=10000):\r\n",
        "  results = np.zeros((len(sequences), dimension))\r\n",
        "\r\n",
        "  for i, sequence in enumerate(sequences):\r\n",
        "    results[i, sequence] = 1.  # 進行one-hot編碼\r\n",
        "  \r\n",
        "  return results\r\n",
        "\r\n",
        "x_train = vectorize_sequences(train_data)  # 將訓練資料向量化\r\n",
        "x_test = vectorize_sequences(test_data)  # 將測試資料向\r\n",
        "\r\n",
        "from keras.utils.np_utils import to_categorical\r\n",
        "\r\n",
        "one_hot_train_labels = to_categorical(train_labels)\r\n",
        "one_hot_test_labels = to_categorical(test_labels)"
      ],
      "execution_count": 77,
      "outputs": []
    },
    {
      "cell_type": "markdown",
      "metadata": {
        "id": "xjoI_oRYr8Qk"
      },
      "source": [
        "**模型定義**"
      ]
    },
    {
      "cell_type": "code",
      "metadata": {
        "id": "EHGX65Qsr-tp"
      },
      "source": [
        "from keras import models\r\n",
        "from keras import layers\r\n",
        "\r\n",
        "model = models.Sequential()\r\n",
        "model.add(layers.Dense(64, activation='relu', input_shape=(10000,)))\r\n",
        "model.add(layers.Dense(64, activation='relu'))\r\n",
        "model.add(layers.Dense(46, activation='softmax'))"
      ],
      "execution_count": 78,
      "outputs": []
    },
    {
      "cell_type": "markdown",
      "metadata": {
        "id": "p2j_H6sztEfe"
      },
      "source": [
        "**編譯模型**"
      ]
    },
    {
      "cell_type": "code",
      "metadata": {
        "id": "1d90mwxRtG7L"
      },
      "source": [
        "model.compile(optimizer='rmsprop',\r\n",
        "              loss='categorical_crossentropy',\r\n",
        "              metrics=['acc'])"
      ],
      "execution_count": 79,
      "outputs": []
    },
    {
      "cell_type": "markdown",
      "metadata": {
        "id": "4-EEjy63tToM"
      },
      "source": [
        "**切片驗證資料集**"
      ]
    },
    {
      "cell_type": "code",
      "metadata": {
        "id": "nbj_JnvjtWgo"
      },
      "source": [
        "x_val = x_train[:1000]\r\n",
        "partical_x_train = x_train[1000:]\r\n",
        "\r\n",
        "y_val = one_hot_train_labels[:1000]\r\n",
        "partical_y_train = one_hot_train_labels[1000:]"
      ],
      "execution_count": 80,
      "outputs": []
    },
    {
      "cell_type": "markdown",
      "metadata": {
        "id": "d1sqe1hsvmSp"
      },
      "source": [
        "**訓練模型**"
      ]
    },
    {
      "cell_type": "code",
      "metadata": {
        "colab": {
          "base_uri": "https://localhost:8080/"
        },
        "id": "oee3wxPdvnnh",
        "outputId": "0cc664dc-598e-459b-f7f8-c89a7e330e53"
      },
      "source": [
        "history = model.fit(partical_x_train,\r\n",
        "                    partical_y_train,\r\n",
        "                    epochs=20,\r\n",
        "                    batch_size=512,\r\n",
        "                    validation_data=(x_val, y_val))"
      ],
      "execution_count": 81,
      "outputs": [
        {
          "output_type": "stream",
          "text": [
            "Epoch 1/20\n",
            "16/16 [==============================] - 2s 72ms/step - loss: 3.1169 - acc: 0.3698 - val_loss: 1.7287 - val_acc: 0.6510\n",
            "Epoch 2/20\n",
            "16/16 [==============================] - 1s 46ms/step - loss: 1.4665 - acc: 0.7046 - val_loss: 1.2734 - val_acc: 0.7180\n",
            "Epoch 3/20\n",
            "16/16 [==============================] - 1s 47ms/step - loss: 1.0536 - acc: 0.7766 - val_loss: 1.0990 - val_acc: 0.7700\n",
            "Epoch 4/20\n",
            "16/16 [==============================] - 1s 47ms/step - loss: 0.8301 - acc: 0.8246 - val_loss: 0.9986 - val_acc: 0.7960\n",
            "Epoch 5/20\n",
            "16/16 [==============================] - 1s 47ms/step - loss: 0.6477 - acc: 0.8647 - val_loss: 0.9415 - val_acc: 0.8090\n",
            "Epoch 6/20\n",
            "16/16 [==============================] - 1s 48ms/step - loss: 0.5220 - acc: 0.8918 - val_loss: 0.9124 - val_acc: 0.8080\n",
            "Epoch 7/20\n",
            "16/16 [==============================] - 1s 47ms/step - loss: 0.4082 - acc: 0.9184 - val_loss: 0.9017 - val_acc: 0.8150\n",
            "Epoch 8/20\n",
            "16/16 [==============================] - 1s 48ms/step - loss: 0.3386 - acc: 0.9326 - val_loss: 0.8918 - val_acc: 0.8090\n",
            "Epoch 9/20\n",
            "16/16 [==============================] - 1s 60ms/step - loss: 0.2806 - acc: 0.9425 - val_loss: 0.9273 - val_acc: 0.8110\n",
            "Epoch 10/20\n",
            "16/16 [==============================] - 1s 49ms/step - loss: 0.2419 - acc: 0.9485 - val_loss: 0.9271 - val_acc: 0.8100\n",
            "Epoch 11/20\n",
            "16/16 [==============================] - 1s 46ms/step - loss: 0.2006 - acc: 0.9501 - val_loss: 0.9159 - val_acc: 0.8240\n",
            "Epoch 12/20\n",
            "16/16 [==============================] - 1s 47ms/step - loss: 0.1742 - acc: 0.9540 - val_loss: 0.9445 - val_acc: 0.8170\n",
            "Epoch 13/20\n",
            "16/16 [==============================] - 1s 48ms/step - loss: 0.1640 - acc: 0.9537 - val_loss: 0.9463 - val_acc: 0.8200\n",
            "Epoch 14/20\n",
            "16/16 [==============================] - 1s 47ms/step - loss: 0.1394 - acc: 0.9603 - val_loss: 0.9518 - val_acc: 0.8260\n",
            "Epoch 15/20\n",
            "16/16 [==============================] - 1s 56ms/step - loss: 0.1269 - acc: 0.9606 - val_loss: 0.9912 - val_acc: 0.8120\n",
            "Epoch 16/20\n",
            "16/16 [==============================] - 1s 54ms/step - loss: 0.1149 - acc: 0.9637 - val_loss: 1.0143 - val_acc: 0.8120\n",
            "Epoch 17/20\n",
            "16/16 [==============================] - 1s 48ms/step - loss: 0.1096 - acc: 0.9628 - val_loss: 1.0646 - val_acc: 0.7970\n",
            "Epoch 18/20\n",
            "16/16 [==============================] - 1s 47ms/step - loss: 0.1183 - acc: 0.9602 - val_loss: 1.0428 - val_acc: 0.8170\n",
            "Epoch 19/20\n",
            "16/16 [==============================] - 1s 46ms/step - loss: 0.1057 - acc: 0.9630 - val_loss: 1.0710 - val_acc: 0.8130\n",
            "Epoch 20/20\n",
            "16/16 [==============================] - 1s 46ms/step - loss: 0.1044 - acc: 0.9629 - val_loss: 1.1307 - val_acc: 0.8020\n"
          ],
          "name": "stdout"
        }
      ]
    },
    {
      "cell_type": "markdown",
      "metadata": {
        "id": "XytKXhqywpN1"
      },
      "source": [
        "**繪製訓練和驗證的損失圖**"
      ]
    },
    {
      "cell_type": "code",
      "metadata": {
        "colab": {
          "base_uri": "https://localhost:8080/",
          "height": 295
        },
        "id": "GGZy0UvPwtpr",
        "outputId": "c63d0786-53d5-4cec-baec-927c040b0529"
      },
      "source": [
        "import matplotlib.pyplot as plt\r\n",
        "\r\n",
        "loss_values = history.history['loss']\r\n",
        "val_loss_values = history.history['val_loss']\r\n",
        "\r\n",
        "epochs = range(1, len(loss_values) + 1)\r\n",
        "\r\n",
        "plt.plot(epochs, loss_values, 'bo', label='Training loss')\r\n",
        "plt.plot(epochs, val_loss_values, 'r', label='Validation loss')\r\n",
        "plt.title('Training and validation loss')\r\n",
        "plt.xlabel('Epochs')\r\n",
        "plt.ylabel('Loss')\r\n",
        "plt.legend()\r\n",
        "plt.grid()\r\n",
        "plt.show()"
      ],
      "execution_count": 82,
      "outputs": [
        {
          "output_type": "display_data",
          "data": {
            "image/png": "[encoded data removed]",
            "text/plain": [
              "<Figure size 432x288 with 1 Axes>"
            ]
          },
          "metadata": {
            "tags": [],
            "needs_background": "light"
          }
        }
      ]
    },
    {
      "cell_type": "markdown",
      "metadata": {
        "id": "xZ-QgptLw5qi"
      },
      "source": [
        "**繪製訓練和驗證的準確度**"
      ]
    },
    {
      "cell_type": "code",
      "metadata": {
        "colab": {
          "base_uri": "https://localhost:8080/",
          "height": 295
        },
        "id": "lzRD3sdpw89z",
        "outputId": "556421cf-2f74-44a5-95c7-38ff15649e8c"
      },
      "source": [
        "plt.clf()\r\n",
        "acc = history.history['acc']\r\n",
        "val_acc = history.history['val_acc']\r\n",
        "\r\n",
        "plt.plot(epochs, acc, 'bo', label='Training acc')\r\n",
        "plt.plot(epochs, val_acc, 'r', label='Validation acc')\r\n",
        "plt.title('Training and validation accuracy')\r\n",
        "plt.xlabel('Epochs')\r\n",
        "plt.ylabel('Accuracy')\r\n",
        "plt.legend()\r\n",
        "plt.grid()\r\n",
        "plt.show()"
      ],
      "execution_count": 83,
      "outputs": [
        {
          "output_type": "display_data",
          "data": {
            "image/png": "[encoded data removed]",
            "text/plain": [
              "<Figure size 432x288 with 1 Axes>"
            ]
          },
          "metadata": {
            "tags": [],
            "needs_background": "light"
          }
        }
      ]
    },
    {
      "cell_type": "markdown",
      "metadata": {
        "id": "iZRD28D1zVP3"
      },
      "source": [
        "**從頭開始重新訓練模型**"
      ]
    },
    {
      "cell_type": "code",
      "metadata": {
        "colab": {
          "base_uri": "https://localhost:8080/"
        },
        "id": "Rpld7YBjzcpj",
        "outputId": "11d023c6-0790-4e1d-cbe5-fad95cdd6069"
      },
      "source": [
        "model = models.Sequential()\r\n",
        "model.add(layers.Dense(64, activation='relu', input_shape=(10000,)))\r\n",
        "model.add(layers.Dense(64, activation='relu'))\r\n",
        "model.add(layers.Dense(46, activation='softmax'))\r\n",
        "\r\n",
        "model.compile(optimizer='rmsprop',\r\n",
        "              loss='categorical_crossentropy',\r\n",
        "              metrics=['acc'])\r\n",
        "\r\n",
        "history = model.fit(partical_x_train,\r\n",
        "                    partical_y_train,\r\n",
        "                    epochs=9,\r\n",
        "                    batch_size=512,\r\n",
        "                    validation_data=(x_val, y_val))\r\n",
        "\r\n",
        "results = model.evaluate(x_test, one_hot_test_labels)\r\n",
        "\r\n",
        "print(results)"
      ],
      "execution_count": 84,
      "outputs": [
        {
          "output_type": "stream",
          "text": [
            "Epoch 1/9\n",
            "16/16 [==============================] - 1s 57ms/step - loss: 3.1071 - acc: 0.4219 - val_loss: 1.7045 - val_acc: 0.6570\n",
            "Epoch 2/9\n",
            "16/16 [==============================] - 1s 47ms/step - loss: 1.5152 - acc: 0.6973 - val_loss: 1.3025 - val_acc: 0.7130\n",
            "Epoch 3/9\n",
            "16/16 [==============================] - 1s 48ms/step - loss: 1.0893 - acc: 0.7736 - val_loss: 1.1385 - val_acc: 0.7560\n",
            "Epoch 4/9\n",
            "16/16 [==============================] - 1s 47ms/step - loss: 0.8640 - acc: 0.8228 - val_loss: 1.0201 - val_acc: 0.7770\n",
            "Epoch 5/9\n",
            "16/16 [==============================] - 1s 46ms/step - loss: 0.6761 - acc: 0.8646 - val_loss: 0.9577 - val_acc: 0.7930\n",
            "Epoch 6/9\n",
            "16/16 [==============================] - 1s 47ms/step - loss: 0.5654 - acc: 0.8845 - val_loss: 0.9108 - val_acc: 0.8110\n",
            "Epoch 7/9\n",
            "16/16 [==============================] - 1s 47ms/step - loss: 0.4451 - acc: 0.9102 - val_loss: 0.9189 - val_acc: 0.8050\n",
            "Epoch 8/9\n",
            "16/16 [==============================] - 1s 47ms/step - loss: 0.3485 - acc: 0.9264 - val_loss: 0.8975 - val_acc: 0.8100\n",
            "Epoch 9/9\n",
            "16/16 [==============================] - 1s 46ms/step - loss: 0.2900 - acc: 0.9412 - val_loss: 0.8830 - val_acc: 0.8240\n",
            "71/71 [==============================] - 0s 3ms/step - loss: 0.9942 - acc: 0.7890\n",
            "[0.9942008256912231, 0.7889581322669983]\n"
          ],
          "name": "stdout"
        }
      ]
    }
  ]
}
