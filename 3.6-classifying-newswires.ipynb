{
  "nbformat": 4,
  "nbformat_minor": 0,
  "metadata": {
    "colab": {
      "name": "Untitled1.ipynb",
      "provenance": [],
      "authorship_tag": "ABX9TyOM/PXCy38imbZy/FUP4LAt",
      "include_colab_link": true
    },
    "kernelspec": {
      "name": "python3",
      "display_name": "Python 3"
    }
  },
  "cells": [
    {
      "cell_type": "markdown",
      "metadata": {
        "id": "view-in-github",
        "colab_type": "text"
      },
      "source": [
        "<a href=\"https://colab.research.google.com/github/Offliners/Deep-Learning-note/blob/main/3.6-classifying-newswires.ipynb\" target=\"_parent\"><img src=\"https://colab.research.google.com/assets/colab-badge.svg\" alt=\"Open In Colab\"/></a>"
      ]
    },
    {
      "cell_type": "markdown",
      "metadata": {
        "id": "fPDpZm3vm35P"
      },
      "source": [
        "**載入路透社資料集**"
      ]
    },
    {
      "cell_type": "code",
      "metadata": {
        "colab": {
          "base_uri": "https://localhost:8080/"
        },
        "id": "jqPvlzTOm0il",
        "outputId": "3f3d39be-bf3f-435c-924f-031e8e601442"
      },
      "source": [
        "from keras.datasets import reuters  # 從keras.datasets套件中匯入reuters資料集\r\n",
        "\r\n",
        "(train_data, train_labels), (test_data, test_labels) = reuters.load_data(num_words=10000)  # 從reuters資料集中讀取訓練資料、訓練標籤、測試資料、測試標籤"
      ],
      "execution_count": 52,
      "outputs": [
        {
          "output_type": "stream",
          "text": [
            "/usr/local/lib/python3.6/dist-packages/tensorflow/python/keras/datasets/reuters.py:148: VisibleDeprecationWarning: Creating an ndarray from ragged nested sequences (which is a list-or-tuple of lists-or-tuples-or ndarrays with different lengths or shapes) is deprecated. If you meant to do this, you must specify 'dtype=object' when creating the ndarray\n",
            "  x_train, y_train = np.array(xs[:idx]), np.array(labels[:idx])\n",
            "/usr/local/lib/python3.6/dist-packages/tensorflow/python/keras/datasets/reuters.py:149: VisibleDeprecationWarning: Creating an ndarray from ragged nested sequences (which is a list-or-tuple of lists-or-tuples-or ndarrays with different lengths or shapes) is deprecated. If you meant to do this, you must specify 'dtype=object' when creating the ndarray\n",
            "  x_test, y_test = np.array(xs[idx:]), np.array(labels[idx:])\n"
          ],
          "name": "stderr"
        }
      ]
    },
    {
      "cell_type": "markdown",
      "metadata": {
        "id": "sfXy_AN-orbh"
      },
      "source": [
        "**回到文字解碼新聞專欄**"
      ]
    },
    {
      "cell_type": "code",
      "metadata": {
        "id": "yE2zknlTov7V"
      },
      "source": [
        "word_index = reuters.get_word_index()\r\n",
        "reverse_word_index = dict([(value, key) for (value, key) in word_index.items()])\r\n",
        "\r\n",
        "# 這些索引值有位移3個位置，因為0，1與2分別是保留索引值，代表「填補」、「開始位置」與「未知」\r\n",
        "decoded_newwire = ' '.join([reverse_word_index.get(i - 3, '?') for i in train_data[0]])"
      ],
      "execution_count": 53,
      "outputs": []
    },
    {
      "cell_type": "markdown",
      "metadata": {
        "id": "HYu3l-wVrfxQ"
      },
      "source": [
        "**將資料加以編碼**"
      ]
    },
    {
      "cell_type": "code",
      "metadata": {
        "id": "gMNI4ok6rjXy"
      },
      "source": [
        "import numpy as np\r\n",
        "\r\n",
        "def vectorize_sequences(sequences, dimension=10000):\r\n",
        "  results = np.zeros((len(sequences), dimension))\r\n",
        "\r\n",
        "  for i, sequence in enumerate(sequences):\r\n",
        "    results[i, sequence] = 1.  # 進行one-hot編碼\r\n",
        "  \r\n",
        "  return results\r\n",
        "\r\n",
        "x_train = vectorize_sequences(train_data)  # 將訓練資料向量化\r\n",
        "x_test = vectorize_sequences(test_data)  # 將測試資料向\r\n",
        "\r\n",
        "from keras.utils.np_utils import to_categorical\r\n",
        "\r\n",
        "one_hot_train_labels = to_categorical(train_labels)\r\n",
        "one_hot_test_labels = to_categorical(test_labels)"
      ],
      "execution_count": 54,
      "outputs": []
    },
    {
      "cell_type": "markdown",
      "metadata": {
        "id": "xjoI_oRYr8Qk"
      },
      "source": [
        "**模型定義**"
      ]
    },
    {
      "cell_type": "code",
      "metadata": {
        "id": "EHGX65Qsr-tp"
      },
      "source": [
        "from keras import models\r\n",
        "from keras import layers\r\n",
        "\r\n",
        "model = models.Sequential()\r\n",
        "model.add(layers.Dense(64, activation='relu', input_shape=(10000,)))\r\n",
        "model.add(layers.Dense(64, activation='relu'))\r\n",
        "model.add(layers.Dense(46, activation='softmax'))"
      ],
      "execution_count": 55,
      "outputs": []
    },
    {
      "cell_type": "markdown",
      "metadata": {
        "id": "p2j_H6sztEfe"
      },
      "source": [
        "**編譯模型**"
      ]
    },
    {
      "cell_type": "code",
      "metadata": {
        "id": "1d90mwxRtG7L"
      },
      "source": [
        "model.compile(optimizer='rmsprop',\r\n",
        "              loss='categorical_crossentropy',\r\n",
        "              metrics=['acc'])"
      ],
      "execution_count": 56,
      "outputs": []
    },
    {
      "cell_type": "markdown",
      "metadata": {
        "id": "4-EEjy63tToM"
      },
      "source": [
        "**切片驗證資料集**"
      ]
    },
    {
      "cell_type": "code",
      "metadata": {
        "id": "nbj_JnvjtWgo"
      },
      "source": [
        "x_val = x_train[:1000]\r\n",
        "partical_x_train = x_train[1000:]\r\n",
        "\r\n",
        "y_val = one_hot_train_labels[:1000]\r\n",
        "partical_y_train = one_hot_train_labels[1000:]"
      ],
      "execution_count": 57,
      "outputs": []
    },
    {
      "cell_type": "markdown",
      "metadata": {
        "id": "d1sqe1hsvmSp"
      },
      "source": [
        "**訓練模型**"
      ]
    },
    {
      "cell_type": "code",
      "metadata": {
        "colab": {
          "base_uri": "https://localhost:8080/"
        },
        "id": "oee3wxPdvnnh",
        "outputId": "2cfe5437-d737-4f14-c51c-bc5ffdc424d4"
      },
      "source": [
        "history = model.fit(partical_x_train,\r\n",
        "                     partical_y_train,\r\n",
        "                     epochs=20,\r\n",
        "                     batch_size=512,\r\n",
        "                     validation_data=(x_val, y_val))"
      ],
      "execution_count": 58,
      "outputs": [
        {
          "output_type": "stream",
          "text": [
            "Epoch 1/20\n",
            "16/16 [==============================] - 1s 58ms/step - loss: 3.1351 - acc: 0.3703 - val_loss: 1.7698 - val_acc: 0.6430\n",
            "Epoch 2/20\n",
            "16/16 [==============================] - 1s 54ms/step - loss: 1.5521 - acc: 0.6790 - val_loss: 1.3215 - val_acc: 0.7110\n",
            "Epoch 3/20\n",
            "16/16 [==============================] - 1s 60ms/step - loss: 1.1132 - acc: 0.7663 - val_loss: 1.1534 - val_acc: 0.7440\n",
            "Epoch 4/20\n",
            "16/16 [==============================] - 1s 55ms/step - loss: 0.8437 - acc: 0.8231 - val_loss: 1.0305 - val_acc: 0.7880\n",
            "Epoch 5/20\n",
            "16/16 [==============================] - 1s 48ms/step - loss: 0.6593 - acc: 0.8652 - val_loss: 0.9802 - val_acc: 0.8050\n",
            "Epoch 6/20\n",
            "16/16 [==============================] - 1s 49ms/step - loss: 0.5190 - acc: 0.8965 - val_loss: 0.9421 - val_acc: 0.8050\n",
            "Epoch 7/20\n",
            "16/16 [==============================] - 1s 48ms/step - loss: 0.4110 - acc: 0.9172 - val_loss: 0.9026 - val_acc: 0.8040\n",
            "Epoch 8/20\n",
            "16/16 [==============================] - 1s 65ms/step - loss: 0.3438 - acc: 0.9300 - val_loss: 0.9020 - val_acc: 0.8110\n",
            "Epoch 9/20\n",
            "16/16 [==============================] - 1s 59ms/step - loss: 0.2763 - acc: 0.9424 - val_loss: 0.8930 - val_acc: 0.8250\n",
            "Epoch 10/20\n",
            "16/16 [==============================] - 1s 59ms/step - loss: 0.2385 - acc: 0.9451 - val_loss: 0.9053 - val_acc: 0.8160\n",
            "Epoch 11/20\n",
            "16/16 [==============================] - 1s 57ms/step - loss: 0.1957 - acc: 0.9529 - val_loss: 0.8949 - val_acc: 0.8150\n",
            "Epoch 12/20\n",
            "16/16 [==============================] - 1s 48ms/step - loss: 0.1746 - acc: 0.9549 - val_loss: 0.9330 - val_acc: 0.8190\n",
            "Epoch 13/20\n",
            "16/16 [==============================] - 1s 59ms/step - loss: 0.1622 - acc: 0.9540 - val_loss: 0.9510 - val_acc: 0.8100\n",
            "Epoch 14/20\n",
            "16/16 [==============================] - 1s 50ms/step - loss: 0.1360 - acc: 0.9613 - val_loss: 0.9606 - val_acc: 0.8050\n",
            "Epoch 15/20\n",
            "16/16 [==============================] - 1s 48ms/step - loss: 0.1280 - acc: 0.9613 - val_loss: 0.9632 - val_acc: 0.8120\n",
            "Epoch 16/20\n",
            "16/16 [==============================] - 1s 50ms/step - loss: 0.1283 - acc: 0.9593 - val_loss: 0.9776 - val_acc: 0.8270\n",
            "Epoch 17/20\n",
            "16/16 [==============================] - 1s 57ms/step - loss: 0.1150 - acc: 0.9604 - val_loss: 1.0208 - val_acc: 0.8090\n",
            "Epoch 18/20\n",
            "16/16 [==============================] - 1s 59ms/step - loss: 0.1135 - acc: 0.9629 - val_loss: 1.0421 - val_acc: 0.8090\n",
            "Epoch 19/20\n",
            "16/16 [==============================] - 1s 59ms/step - loss: 0.1082 - acc: 0.9624 - val_loss: 1.0416 - val_acc: 0.8090\n",
            "Epoch 20/20\n",
            "16/16 [==============================] - 1s 59ms/step - loss: 0.1052 - acc: 0.9611 - val_loss: 1.1462 - val_acc: 0.7920\n"
          ],
          "name": "stdout"
        }
      ]
    },
    {
      "cell_type": "markdown",
      "metadata": {
        "id": "XytKXhqywpN1"
      },
      "source": [
        "**繪製訓練和驗證的損失圖**"
      ]
    },
    {
      "cell_type": "code",
      "metadata": {
        "colab": {
          "base_uri": "https://localhost:8080/",
          "height": 295
        },
        "id": "GGZy0UvPwtpr",
        "outputId": "1b8f916d-adb9-4f15-9885-9c4c08eba7fa"
      },
      "source": [
        "import matplotlib.pyplot as plt\r\n",
        "\r\n",
        "loss_values = history.history['loss']\r\n",
        "val_loss_values = history.history['val_loss']\r\n",
        "\r\n",
        "epochs = range(1, len(loss_values) + 1)\r\n",
        "\r\n",
        "plt.plot(epochs, loss_values, 'bo', label='Training loss')\r\n",
        "plt.plot(epochs, val_loss_values, 'r', label='Validation loss')\r\n",
        "plt.title('Training and validation loss')\r\n",
        "plt.xlabel('Epochs')\r\n",
        "plt.ylabel('Loss')\r\n",
        "plt.legend()\r\n",
        "plt.grid()\r\n",
        "plt.show()"
      ],
      "execution_count": 59,
      "outputs": [
        {
          "output_type": "display_data",
          "data": {
            "image/png": "[encoded data removed]",
            "text/plain": [
              "<Figure size 432x288 with 1 Axes>"
            ]
          },
          "metadata": {
            "tags": [],
            "needs_background": "light"
          }
        }
      ]
    },
    {
      "cell_type": "markdown",
      "metadata": {
        "id": "xZ-QgptLw5qi"
      },
      "source": [
        "**繪製訓練和驗證的準確度**"
      ]
    },
    {
      "cell_type": "code",
      "metadata": {
        "colab": {
          "base_uri": "https://localhost:8080/",
          "height": 295
        },
        "id": "lzRD3sdpw89z",
        "outputId": "1d6f1882-9429-4536-b75a-a2cbf9015aec"
      },
      "source": [
        "plt.clf()\r\n",
        "acc = history.history['acc']\r\n",
        "val_acc = history.history['val_acc']\r\n",
        "\r\n",
        "plt.plot(epochs, acc, 'bo', label='Training acc')\r\n",
        "plt.plot(epochs, val_acc, 'r', label='Validation acc')\r\n",
        "plt.title('Training and validation accuracy')\r\n",
        "plt.xlabel('Epochs')\r\n",
        "plt.ylabel('Accuracy')\r\n",
        "plt.legend()\r\n",
        "plt.grid()\r\n",
        "plt.show()"
      ],
      "execution_count": 60,
      "outputs": [
        {
          "output_type": "display_data",
          "data": {
            "image/png": "[encoded data removed]",
            "text/plain": [
              "<Figure size 432x288 with 1 Axes>"
            ]
          },
          "metadata": {
            "tags": [],
            "needs_background": "light"
          }
        }
      ]
    },
    {
      "cell_type": "markdown",
      "metadata": {
        "id": "iZRD28D1zVP3"
      },
      "source": [
        "**從頭開始重新訓練模型**"
      ]
    },
    {
      "cell_type": "code",
      "metadata": {
        "colab": {
          "base_uri": "https://localhost:8080/"
        },
        "id": "Rpld7YBjzcpj",
        "outputId": "65824977-260c-47f5-9ace-12b9454a3cda"
      },
      "source": [
        "model = models.Sequential()\r\n",
        "model.add(layers.Dense(64, activation='relu', input_shape=(10000,)))\r\n",
        "model.add(layers.Dense(64, activation='relu'))\r\n",
        "model.add(layers.Dense(46, activation='softmax'))\r\n",
        "\r\n",
        "model.compile(optimizer='rmsprop',\r\n",
        "              loss='categorical_crossentropy',\r\n",
        "              metrics=['acc'])\r\n",
        "\r\n",
        "history = model.fit(partical_x_train,\r\n",
        "                     partical_y_train,\r\n",
        "                     epochs=9,\r\n",
        "                     batch_size=512,\r\n",
        "                     validation_data=(x_val, y_val))\r\n",
        "\r\n",
        "results = model.evaluate(x_test, one_hot_test_labels)\r\n",
        "\r\n",
        "print(results)"
      ],
      "execution_count": 62,
      "outputs": [
        {
          "output_type": "stream",
          "text": [
            "Epoch 1/9\n",
            "16/16 [==============================] - 2s 71ms/step - loss: 3.1163 - acc: 0.3339 - val_loss: 1.7347 - val_acc: 0.6200\n",
            "Epoch 2/9\n",
            "16/16 [==============================] - 1s 52ms/step - loss: 1.5402 - acc: 0.6740 - val_loss: 1.3440 - val_acc: 0.6920\n",
            "Epoch 3/9\n",
            "16/16 [==============================] - 1s 49ms/step - loss: 1.1435 - acc: 0.7526 - val_loss: 1.1753 - val_acc: 0.7330\n",
            "Epoch 4/9\n",
            "16/16 [==============================] - 1s 49ms/step - loss: 0.8947 - acc: 0.8115 - val_loss: 1.0347 - val_acc: 0.7860\n",
            "Epoch 5/9\n",
            "16/16 [==============================] - 1s 62ms/step - loss: 0.6978 - acc: 0.8546 - val_loss: 0.9742 - val_acc: 0.7990\n",
            "Epoch 6/9\n",
            "16/16 [==============================] - 1s 63ms/step - loss: 0.5543 - acc: 0.8793 - val_loss: 0.9285 - val_acc: 0.8170\n",
            "Epoch 7/9\n",
            "16/16 [==============================] - 1s 48ms/step - loss: 0.4356 - acc: 0.9106 - val_loss: 0.8865 - val_acc: 0.8170\n",
            "Epoch 8/9\n",
            "16/16 [==============================] - 1s 57ms/step - loss: 0.3583 - acc: 0.9224 - val_loss: 0.9495 - val_acc: 0.8020\n",
            "Epoch 9/9\n",
            "16/16 [==============================] - 1s 57ms/step - loss: 0.2985 - acc: 0.9356 - val_loss: 0.8961 - val_acc: 0.8130\n",
            "71/71 [==============================] - 0s 3ms/step - loss: 0.9943 - acc: 0.7814\n",
            "[0.9943409562110901, 0.7813891172409058]\n"
          ],
          "name": "stdout"
        }
      ]
    }
  ]
}